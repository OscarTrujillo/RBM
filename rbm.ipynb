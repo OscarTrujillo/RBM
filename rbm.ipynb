{
  "nbformat": 4,
  "nbformat_minor": 0,
  "metadata": {
    "colab": {
      "name": "rbm_quantum.ipynb",
      "provenance": [],
      "collapsed_sections": [
        "QpzqamuXb2kI",
        "7u5zS2GzCso1",
        "C02pjEdJWBWr",
        "t3uP5keTPONh",
        "ClYPaPu_o-GV",
        "oa5KXGoyL9hk",
        "Q7L9JLNd70_4",
        "86c89H5v2zo9",
        "cQ9jdAcNQg-U",
        "vOYOdq8AvDX8"
      ]
    },
    "kernelspec": {
      "name": "python3",
      "display_name": "Python 3"
    },
    "language_info": {
      "name": "python"
    }
  },
  "cells": [
    {
      "cell_type": "markdown",
      "metadata": {
        "id": "QpzqamuXb2kI"
      },
      "source": [
        "#QShadow Tomography  with RBM"
      ]
    },
    {
      "cell_type": "code",
      "metadata": {
        "id": "zkHvX6adMPU0"
      },
      "source": [
        "!pip install qiskit ipywidgets"
      ],
      "execution_count": null,
      "outputs": []
    },
    {
      "cell_type": "code",
      "metadata": {
        "id": "nwqYNrIlL_80"
      },
      "source": [
        "from qiskit import *\n",
        "from numpy import pi\n",
        "import numpy as np\n",
        "import math\n",
        "\n",
        "#Tensorflow library. Used to implement machine learning models\n",
        "import tensorflow as tf\n",
        "#Dataframe manipulation library\n",
        "import pandas as pd\n",
        "#Graph plotting library\n",
        "import matplotlib.pyplot as plt\n",
        "%matplotlib inline"
      ],
      "execution_count": null,
      "outputs": []
    },
    {
      "cell_type": "markdown",
      "metadata": {
        "id": "WH52odMskO1c"
      },
      "source": [
        "#Generic class for qiskit circuit"
      ]
    },
    {
      "cell_type": "code",
      "metadata": {
        "id": "P93GdzBLgQq2"
      },
      "source": [
        "class qCirc():\n",
        "  def __init__(self, _circ, _nqbits, _print = False):\n",
        "    self.__nqbits = _nqbits\n",
        "    self.__circ = _circ\n",
        "    if (_print ):\n",
        "      print(_circ)\n",
        "\n",
        "  def _measure(self):\n",
        "    for ind in range (0, self.__nqbits):\n",
        "      self.__circ.measure(ind, ind)\n",
        "\n",
        "  def get_datasource(self, nshots):\n",
        "    backend_sim = Aer.get_backend('qasm_simulator')\n",
        "    self._measure()\n",
        "    job_sim = execute(self.__circ, backend_sim, shots = nshots, memory=True)\n",
        "    result_sim = job_sim.result()\n",
        "    data =  result_sim.get_memory()\n",
        "  \n",
        "    list_ = []\n",
        "    for num in data:\n",
        "      list_.append([int(numeric_string) for numeric_string in list(num)])\n",
        "    return  tf.convert_to_tensor(list_,tf.float32)\n",
        "    "
      ],
      "execution_count": null,
      "outputs": []
    },
    {
      "cell_type": "markdown",
      "metadata": {
        "id": "7u5zS2GzCso1"
      },
      "source": [
        "#W State with 'n' qubits"
      ]
    },
    {
      "cell_type": "code",
      "metadata": {
        "id": "WnZxVABOCZiR"
      },
      "source": [
        "class qWn(qCirc):\n",
        "  def __F_gate(self,circ,q,i,j,n,k) :\n",
        "    theta = np.arccos(np.sqrt(1/(n-k+1)))\n",
        "    circ.ry(-theta,q[j])       \n",
        "    circ.cz(q[i],q[j])\n",
        "    circ.ry(theta,q[j])\n",
        "    circ.barrier(q[i])\n",
        "  def __init__(self, nqbits = 5, _print = False):\n",
        "    qreg_q = QuantumRegister(nqbits, 'q')\n",
        "    creg_c = ClassicalRegister(nqbits, 'c')\n",
        "    circ = QuantumCircuit(qreg_q, creg_c)\n",
        "    circ.x(qreg_q[nqbits-1]) \n",
        "    for i in range(nqbits):\n",
        "      if (i+1 < nqbits):\n",
        "        self.__F_gate(circ, qreg_q, nqbits-1-i, nqbits-2-i, nqbits, i+1)\n",
        "    for i in range(nqbits):\n",
        "      if (i+1 < nqbits):\n",
        "        circ.cx(qreg_q[nqbits-2-i],qreg_q[nqbits-1-i])\n",
        "    super().__init__(circ, nqbits, _print)"
      ],
      "execution_count": null,
      "outputs": []
    },
    {
      "cell_type": "code",
      "metadata": {
        "id": "MY27_wLDKjD9",
        "colab": {
          "base_uri": "https://localhost:8080/"
        },
        "outputId": "97ccd027-dcfc-497b-e211-c7c994ab4b8b"
      },
      "source": [
        "# Test qWn\n",
        "qw = qWn(4, True)\n",
        "data_qw = qw.get_datasource(10)\n",
        "print(data_qw)"
      ],
      "execution_count": null,
      "outputs": [
        {
          "output_type": "stream",
          "text": [
            "       ┌──────────┐                                       ┌─────────┐          \n",
            "q_0: ──┤ RY(-π/4) ├────────────────────────────────────■──┤ RY(π/4) ├───────■──\n",
            "     ┌─┴──────────┴─┐                 ┌─────────────┐  │  └────░────┘     ┌─┴─┐\n",
            "q_1: ┤ RY(-0.95532) ├───────────────■─┤ RY(0.95532) ├──■───────░───────■──┤ X ├\n",
            "     └─┬──────────┬─┘   ┌─────────┐ │ └──────░──────┘          ░     ┌─┴─┐└───┘\n",
            "q_2: ──┤ RY(-π/3) ├───■─┤ RY(π/3) ├─■────────░─────────■─────────────┤ X ├─────\n",
            "       └──┬───┬───┘   │ └────░────┘          ░       ┌─┴─┐           └───┘     \n",
            "q_3: ─────┤ X ├───────■──────░───────────────────────┤ X ├─────────────────────\n",
            "          └───┘              ░                       └───┘                     \n",
            "c: 4/══════════════════════════════════════════════════════════════════════════\n",
            "                                                                               \n",
            "tf.Tensor(\n",
            "[[0. 0. 0. 1.]\n",
            " [1. 0. 0. 0.]\n",
            " [1. 0. 0. 0.]\n",
            " [0. 0. 1. 0.]\n",
            " [0. 0. 1. 0.]\n",
            " [1. 0. 0. 0.]\n",
            " [0. 1. 0. 0.]\n",
            " [0. 0. 0. 1.]\n",
            " [1. 0. 0. 0.]\n",
            " [1. 0. 0. 0.]], shape=(10, 4), dtype=float32)\n"
          ],
          "name": "stdout"
        }
      ]
    },
    {
      "cell_type": "markdown",
      "metadata": {
        "id": "C02pjEdJWBWr"
      },
      "source": [
        "## RBM Class"
      ]
    },
    {
      "cell_type": "code",
      "metadata": {
        "id": "HJaOp0wfVm5F"
      },
      "source": [
        "import random\n",
        "class RBM:\n",
        "  def __init__(self, visualUnits, hiddenUnits, alpha = 0.1 ):\n",
        "    self.epoch_div = 10\n",
        "    self.__hiddenUnits = hiddenUnits\n",
        "    self.__visualUnits = visualUnits\n",
        "    self.__alpha = alpha\n",
        "    self.__reset_params()\n",
        "\n",
        "  def __reset_params(self):\n",
        "    self.__vb = tf.Variable(tf.zeros([self.__visualUnits]), tf.float32)                     # Visual Layer bias\n",
        "    self.__hb = tf.Variable(tf.zeros([self.__hiddenUnits]), tf.float32)                     # Hidden Layer bias\n",
        "    self.__W  = tf.Variable(tf.zeros([self.__visualUnits, self.__hiddenUnits]), tf.float32) # Weight matrix\n",
        "  \n",
        "  def set_params(self, vb, hb, w):\n",
        "    self.__vb = vb\n",
        "    self.__hb = hb\n",
        "    self.__W =w\n",
        "\n",
        "  def get_vb( self ):\n",
        "    return self.__vb\n",
        "  def get_hb( self ):\n",
        "    return self.__hb\n",
        "  def get_W( self ):\n",
        "    return self.__W\n",
        " \n",
        "  def make_hidden_layer(self, visual_state):\n",
        "    hidden_proba = tf.nn.sigmoid(tf.matmul([visual_state], self.__W) + self.__hb)  # probabilities of the hidden units\n",
        "    hidden_state = tf.nn.relu(tf.sign(hidden_proba - tf.random.uniform(tf.shape(hidden_proba)))) # sample_h_given_X\n",
        "    return hidden_state[0]\n",
        "\n",
        "  def remake_visual_layer(self, hidden_state_source ):\n",
        "    visual_proba = tf.nn.sigmoid(tf.matmul([hidden_state_source], tf.transpose(self.__W)) + self.__vb) \n",
        "    visual_state = tf.nn.relu(tf.sign(visual_proba - tf.random.uniform(tf.shape(visual_proba)))) #sample_v_given_h\n",
        "    return visual_state[0]\n",
        "   \n",
        "  def error(self,v0_state, v1_state):\n",
        "    return tf.reduce_mean(tf.square(v0_state - v1_state))\n",
        "\n",
        "  def train(self, data_set, epochs = 100, every_epochs = 50, every_step = 0, show = False):\n",
        "    every_epochs = epochs / self.epoch_div\n",
        "    self.__reset_params()\n",
        "    by_epochs = []\n",
        "    ind_epoch  = 0\n",
        "    step = 0\n",
        "    ind_step = 0\n",
        "    for epoch in range(1, epochs + 1):\n",
        "      ind_epoch += 1\n",
        "      for item in data_set: # cada item es del tipo [1.,0.,0.]\n",
        "        visual_0 = item\n",
        "        hidden_0 = self.make_hidden_layer(visual_0)\n",
        "        visual_1 = self.remake_visual_layer(hidden_0)\n",
        "        hidden_1 = self.make_hidden_layer(visual_1)\n",
        "        delta_W = tf.matmul(tf.transpose([visual_0]), [hidden_0]) - tf.matmul(tf.transpose([visual_1]), [hidden_1])\n",
        "        # los valores de los elementos de delta_w pueden ser sólo -1, 0 , 1\n",
        "        self.__W = self.__W + self.__alpha * delta_W\n",
        "        self.__vb = self.__vb + self.__alpha * tf.reduce_mean(visual_0 - visual_1, 0)\n",
        "        self.__hb = self.__hb + self.__alpha * tf.reduce_mean(hidden_0 - hidden_1, 0) \n",
        "        step += 1\n",
        "        ind_step += 1\n",
        "        if every_step > 0:\n",
        "          if ind_step == every_step:\n",
        "            ind_step = 0\n",
        "            data = [0, step, self.__vb, self.__hb,self.__W]\n",
        "            by_epochs.append(data)\n",
        "            if show:\n",
        "              print (\"   >> training >> step = \" + str(step))\n",
        "      if (ind_epoch >= every_epochs and every_step == 0):\n",
        "        ind_epoch = 0\n",
        "        data = [epoch, step, self.__vb, self.__hb,self.__W]\n",
        "        by_epochs.append(data)\n",
        "        if show:\n",
        "          print (\"   >> training >> epoch = \" + str(epoch))\n",
        "    return by_epochs\n",
        "\n",
        "  def get_sigma_tests( self, n , ntrips = 10):   # Gibbs Sampling\n",
        "    list = []\n",
        "    qbits_number = self.__visualUnits\n",
        "  \n",
        "    for index in range(n):\n",
        "      random_list = [random.randint(0, 1) for _ in range(qbits_number)]\n",
        "      visual_0 = tf.convert_to_tensor(random_list,tf.float32)\n",
        "\n",
        "      for ii in range (ntrips):   \n",
        "        hidden_0 = self.make_hidden_layer(visual_0)\n",
        "        visual_1 = self.remake_visual_layer(hidden_0)\n",
        "        visual_0 = visual_1\n",
        "      \n",
        "      list.append(visual_1.numpy().tolist())\n",
        "    \n",
        "    return list\n",
        "\n",
        "  def check(self,data):\n",
        "    nerr = 0\n",
        "    count_err = 0\n",
        "    for item in data:\n",
        "      check_visual_0 = item\n",
        "      check_hidden_0 = self.make_hidden_layer(check_visual_0)\n",
        "      check_visual_1 = self.remake_visual_layer(check_hidden_0)\n",
        "      err = tf.reduce_mean(tf.abs(check_visual_1 - check_visual_0), 0) \n",
        "      nerr = nerr + err\n",
        "      if (err != 0):\n",
        "        count_err += 1\n",
        "        print(check_visual_0)\n",
        "        print(check_visual_1)\n",
        "        print('-------------------')\n",
        "    nerr = nerr / len(data) \n",
        "    tf.print(nerr)\n",
        "    print (str(count_err) + \" errors of \" + str(len(data)))"
      ],
      "execution_count": null,
      "outputs": []
    },
    {
      "cell_type": "markdown",
      "metadata": {
        "id": "t3uP5keTPONh"
      },
      "source": [
        "#Overlap"
      ]
    },
    {
      "cell_type": "code",
      "metadata": {
        "id": "yoTSG2xDahov"
      },
      "source": [
        "class Overlap:\n",
        "\n",
        "  # calculate overlap between `state wave function`(psi_w) and the `RBM wave function`\n",
        "  def _calculate_overlap(self, sigmas_ok, sigmas_all, b, c, w, psi_w, print_prob = False):\n",
        "    probability_distributions_ok = self._calculate_probability_distribution(sigmas_ok, b, c, w) #P_lambda(sigma)\n",
        "    probability_distributions_all = self._calculate_probability_distribution(sigmas_all, b, c, w) #P_lambda(sigma)\n",
        "\n",
        "    Z = self._sumList(probability_distributions_all) #Z\n",
        "    if (print_prob):\n",
        "      tf.print(\"> Overlap Class > Probability Distribution = \" , probability_distributions_ok)\n",
        "      tf.print(\"> Overlap Class > sum Z = \", Z)\n",
        "      probnor = probability_distributions_ok / Z\n",
        "      tf.print(\"> Overlap Class > Probability Distr. norm. = \" , probnor)\n",
        "    psi_lambda_results = []\n",
        "    mult_results = []\n",
        "    for p in probability_distributions_ok:\n",
        "        psi_lamda = math.sqrt(p/Z) #RBM wave-function\n",
        "        #mult_results.append(psi_w * psi_lamda)\n",
        "        mult_results.append(psi_w * psi_lamda)\n",
        "    o = self._sumList(mult_results)\n",
        "    return o\n",
        "\n",
        "  def _estimate_overlap(self, sigmas_ok, sigmas_test, b, c, w):\n",
        "    print(' > Estimate Overlap > Prob. Distribution Sigmas OK ...')\n",
        "    probability_distributions = self._calculate_probability_distribution(sigmas_ok, b, c, w) #P_lambda(sigma)\n",
        "    \n",
        "    sigmas_intersection = self._intersection(sigmas_test, sigmas_ok)\n",
        "    print(' > Estimate Overlap > Prob. Distribution Sigmas Intersection ...')\n",
        "    probability_distributions_intersection = self._calculate_probability_distribution(sigmas_intersection, b, c, w)\n",
        "    sum1 = 0\n",
        "    sum3 = 0\n",
        "    N = len(sigmas_ok)\n",
        "    n = len(sigmas_test)\n",
        "    n_intersection = len(sigmas_intersection)\n",
        "\n",
        "    print(' > Estimate Overlap >' ,'n', n, 'N', N, 'sigmas_intersection', len(sigmas_intersection))\n",
        "    k = 1/math.sqrt(N)\n",
        "  \n",
        "    for pj in probability_distributions_intersection:\n",
        "      sum1 = sum1 + ((1/math.sqrt(pj))*k)\n",
        "    print(' > Estimate Overlap > Prob. Distribution sum3 ...')\n",
        "    #1/√N   correcto??\n",
        "    for pk in probability_distributions:\n",
        "      sum3 = sum3 + math.sqrt(pk/N)\n",
        "    print(' > Estimate Overlap > Done ________')\n",
        "    return ((1/n)*sum1)*sum3  \n",
        "\n",
        "  def _intersection(self, lst1, lst2):\n",
        "    lst3 = [value for value in lst1 if value in lst2]\n",
        "    return lst3\n",
        "\n",
        "  def _sumList(self, numList):\n",
        "    result = 0\n",
        "    for i in numList:\n",
        "      result += i\n",
        "    return result\n",
        "    \n",
        "  def _calculate_probability_distribution(self, sigmas, vb, hb, w):\n",
        "    e = math.e\n",
        "    n_visual_layer = len(vb)\n",
        "    n_hidden_layer = len(hb)\n",
        "    probabilities = [] #P_k(sigma)\n",
        "    for sigma in sigmas: \n",
        "      sum_bsig = 0\n",
        "      for v in range(n_visual_layer):\n",
        "        sum_bsig += vb[v] * sigma[v]\n",
        "\n",
        "      sum_log = 0\n",
        "      for i in range(n_hidden_layer): \n",
        "        sum_wij = 0\n",
        "        for j in range(n_visual_layer):\n",
        "          sum_wij += w[j][i] * sigma[j]\n",
        "        sum_log += math.log(1 + pow(e, hb[i] + sum_wij))\n",
        "\n",
        "      probabilities.append(pow(e, sum_bsig + sum_log))\n",
        "\n",
        "    return probabilities\n",
        "\n",
        "\n",
        "\n"
      ],
      "execution_count": null,
      "outputs": []
    },
    {
      "cell_type": "markdown",
      "metadata": {
        "id": "nmuRqy1P93KV"
      },
      "source": [
        "#Generation of some sigmas (W state)"
      ]
    },
    {
      "cell_type": "code",
      "metadata": {
        "id": "v6sh85adfc47"
      },
      "source": [
        "class Sigmas:\n",
        "  def get_sigmas_ok(self, size):\n",
        "    final_list = []\n",
        "    for i in range(size):\n",
        "        array = [0] * size\n",
        "        array[i] = 1\n",
        "        final_list.append(array)\n",
        "    return final_list\n",
        "  def get_sigmas_all(self, size):\n",
        "    initial_array = [0] * size\n",
        "    final_list = self._generate_list(initial_array, [])\n",
        "    return final_list\n",
        "  def _generate_list(self, array, final_list):\n",
        "    first = True\n",
        "    while np.any(array) or first:\n",
        "      first = False\n",
        "      final_list.append(array)\n",
        "      array = self._sum_1(array)\n",
        "    return final_list\n",
        "  def _sum_1(self, array):\n",
        "    reversed_array = array[::-1]\n",
        "    for i, num in list(enumerate(reversed_array)):\n",
        "      if num == 0:\n",
        "        reversed_array[i] = 1\n",
        "        break\n",
        "      else:\n",
        "        reversed_array[i] = 0\n",
        "    return reversed_array[::-1]\n",
        "\n",
        "CT_Sigmas_Ok_20 = Sigmas().get_sigmas_ok( size = 20 )\n",
        "CT_Sigmas_Ok_5 = Sigmas().get_sigmas_ok( size = 5 )\n",
        "CT_Sigmas_All_5 = Sigmas().get_sigmas_all( size = 5 )\n",
        "CT_Sigmas_Ok_6 = Sigmas().get_sigmas_ok( size = 6 )\n",
        "CT_Sigmas_All_6 = Sigmas().get_sigmas_all( size = 6)\n",
        "#CT_Sigmas_All_20 = Sigmas().get_sigmas_all( size = 20 )\n",
        "#print(CT_Sigmas_All_5)"
      ],
      "execution_count": null,
      "outputs": []
    },
    {
      "cell_type": "code",
      "metadata": {
        "id": "lDAcP3rBNYhA"
      },
      "source": [
        "\n",
        "class Overlap_Wn(Overlap):\n",
        "  def __init__(self, nv, nh, generateAllSigmas = False):\n",
        "    self.__nv = nv\n",
        "    self.__nh = nh\n",
        "    if nv == 20:\n",
        "      self.__sigmas_ok = CT_Sigmas_Ok_20\n",
        "      #self.__sigmas_all = CT_Sigmas_All_20\n",
        "    elif nv == 5:\n",
        "      self.__sigmas_ok = CT_Sigmas_Ok_5\n",
        "      self.__sigmas_all = CT_Sigmas_All_5      \n",
        "    elif nv == 6:\n",
        "      self.__sigmas_ok = CT_Sigmas_Ok_6\n",
        "      self.__sigmas_all = CT_Sigmas_All_6\n",
        "    else:\n",
        "      self.__sigmas_ok = self._get_sigmas_ok( nv )\n",
        "    if generateAllSigmas:\n",
        "      self.__sigmas_all = self._get_sigmas_all( nv )\n",
        "    \n",
        "    self.__psi_w = 1/math.sqrt(len(self.__sigmas_ok)) #w-state wave-function  número de qubits\n",
        "\n",
        "  def calc_overlap(self, b , c , w, print_prob_distribution = False  ):\n",
        "    return self._calculate_overlap(sigmas_ok = self.__sigmas_ok, sigmas_all = self.__sigmas_all, b = b, c = c, w = w, psi_w = self.__psi_w, print_prob =  print_prob_distribution)\n",
        "  \n",
        "  def est_overlap(self, b , c , w, n = 1000, t = 10 ):\n",
        "    rbm = RBM( self.__nv, self.__nh , alpha = 0 )\n",
        "    rbm.set_params( b, c, w)\n",
        "    sigmas_test = rbm.get_sigma_tests(n, t)\n",
        "    return self._estimate_overlap(sigmas_ok = self.__sigmas_ok, sigmas_test = sigmas_test, b = b, c = c, w = w)\n",
        "   \n",
        "  def _get_sigmas_all(self, size):\n",
        "    initial_array = [0] * size\n",
        "    final_list = self._generate_list(initial_array, [])\n",
        "    return final_list\n",
        "\n",
        "  def _get_sigmas_ok(self, size):\n",
        "    final_list = []\n",
        "    for i in range(size):\n",
        "        array = [0] * size\n",
        "        array[i] = 1\n",
        "        final_list.append(array)\n",
        "    return final_list\n",
        "\n",
        "  def _sumList(self, numList):\n",
        "    result = 0\n",
        "    for i in numList:\n",
        "      result += i\n",
        "    return result\n",
        "\n",
        "  def _sum_1(self, array):\n",
        "    reversed_array = array[::-1]\n",
        "    for i, num in list(enumerate(reversed_array)):\n",
        "      if num == 0:\n",
        "        reversed_array[i] = 1\n",
        "        break\n",
        "      else:\n",
        "        reversed_array[i] = 0\n",
        "    return reversed_array[::-1]\n",
        "  def _generate_list(self, array, final_list):\n",
        "    final_list.append(array)\n",
        "    array = self._sum_1(array)\n",
        "    if np.any(array):\n",
        "      self._generate_list(array, final_list)\n",
        "    return final_list\n",
        "\n"
      ],
      "execution_count": null,
      "outputs": []
    },
    {
      "cell_type": "markdown",
      "metadata": {
        "id": "ClYPaPu_o-GV"
      },
      "source": [
        "## Persist class"
      ]
    },
    {
      "cell_type": "code",
      "metadata": {
        "id": "5vawbLKOZ1rH"
      },
      "source": [
        "from google.colab import files\n",
        "from google.colab import drive\n",
        "drive.mount('/content/drive')\n",
        "class Persist:\n",
        "  def __init__(self, v, h, alpha, nset, epochs_total, epochs_div = 10):\n",
        "    self.__v = v\n",
        "    self.__h = h\n",
        "    self.__alpha = alpha\n",
        "    self.__nset = nset\n",
        "    self.__epochs_div = epochs_div\n",
        "    self.__epochs_total = epochs_total\n",
        "    self.__dir = 'drive/MyDrive/rbm/'\n",
        "    self.__filenameRBM = str('{:02}'.format(v)) + \"v\" \\\n",
        "                    + str('{:02}'.format(h)) + \"h\" \\\n",
        "                    + str('{:02}'.format(int(alpha*100))) + \"a\" \\\n",
        "                    + str('{:05}'.format(nset)) + \"nset\" \\\n",
        "                    + str('{:03}'.format(epochs_total)) + \"tepo\" \n",
        "    print(\"filename_RBM = \", self.__filenameRBM)\n",
        "    self.__filename = 'acum_data'\n",
        "    self.__filenameRBM = self.__dir + self.__filenameRBM\n",
        "    self.__filename = self.__dir + self.__filename \n",
        "  def append(self, step, overlap):\n",
        "    file = open(self.__filename, \"a\", encoding=\"utf-8\")\n",
        "    data = [self.__v, self.__h, self.__alpha, self.__nset, self.__epochs_total, step, overlap]\n",
        "    js = json.dumps(data)\n",
        "    print(js, file = file)\n",
        "    file.close()\n",
        "  def read(self):\n",
        "    file = open(self.__filename, \"r\", encoding=\"utf-8\")\n",
        "    lines = file.readlines()\n",
        "    file.close()\n",
        "    all_data = []\n",
        "      \n",
        "    for line in lines:\n",
        "      if len(line) > 0:\n",
        "        data = json.loads (line)\n",
        "        if (data[0] == self.__v and\n",
        "            data[1] == self.__h and \n",
        "            data[2] == self.__alpha and \n",
        "            data[3] == self.__nset  and\n",
        "            data[4] == self.__epochs_total ) :\n",
        "          all_data.append(data)\n",
        "\n",
        "    return all_data\n",
        "\n",
        "  def write_RBM(self, step, vb, hb, w):\n",
        "    filenameRBM = self.__filenameRBM + str('{:05}'.format(step))\n",
        "    file = open(filenameRBM, \"w\", encoding=\"utf-8\")\n",
        "    data = [self.__v, self.__h, self.__alpha, self.__nset, self.__epochs_total, step, vb, hb, w]\n",
        "    js = json.dumps(data)\n",
        "    file.write(js)\n",
        "    file.close()\n",
        "  def trunc(self):\n",
        "    open(self.__filename, 'w').close()\n",
        "  def trunc_RBM(self):\n",
        "    open(self.__filenameRBM, 'w').close()\n",
        "  def read_RBM(self, step):\n",
        "    filenameRBM = self.__filenameRBM + str('{:05}'.format(step))\n",
        "    file = open(filenameRBM, \"r\", encoding=\"utf-8\")\n",
        "    js = file.read()\n",
        "    file.close()\n",
        "    print('js=' , js)\n",
        "    data = json.loads(js)\n",
        "    rbm = RBM(visualUnits = data[0], hiddenUnits = data[1], alpha = data[2])\n",
        "    rbm.set_params( vb = data[6], hb = data[7], w  = data[8])\n",
        "    return rbm\n",
        "'''    \n",
        "persist = Persist( v = 5, h = 5, alpha = 0.4, nset = 200, epochs = 20 )\n",
        "persist.append(30)\n",
        "print(persist.read())\n",
        "#persist.trunc()\n",
        "'''\n"
      ],
      "execution_count": null,
      "outputs": []
    },
    {
      "cell_type": "markdown",
      "metadata": {
        "id": "speUXSC3pF_F"
      },
      "source": [
        "# Training"
      ]
    },
    {
      "cell_type": "code",
      "metadata": {
        "id": "mzr4E0AUN6YY"
      },
      "source": [
        "class TestWn:\n",
        "  def __init__(self,n_visuallayer = 5, n_hiddenlayer = 5, alpha = 0.5, n_epochs = 10, n_data_source = 200 , rbm = 0, every_step = 0):\n",
        "    self.__v = n_visuallayer\n",
        "    self.__h = n_hiddenlayer\n",
        "    self.__alpha = alpha\n",
        "    self.__n_epochs = n_epochs\n",
        "    self.__n_data_source = n_data_source\n",
        "    if type(rbm) is int:\n",
        "      self.__rbm = RBM(n_visuallayer, n_hiddenlayer ,alpha = alpha )\n",
        "    else:\n",
        "      self.__rbm = rbm\n",
        "    self.__every_step = every_step\n",
        "    qwn = qWn(n_visuallayer, False)\n",
        "    self.__data = qwn.get_datasource(n_data_source)\n",
        "    self.__max_epoch = n_epochs\n",
        "    self.__Ovl = Overlap_Wn( nv = n_visuallayer, nh = n_hiddenlayer )\n",
        "  def train(self):\n",
        "    if self.__max_epoch >0:\n",
        "      print(\"training rbm with epochs = \", self.__max_epoch)\n",
        "    else:\n",
        "      print(\"training rbm with every_Step = \", self.__every_step)\n",
        "    by_epoch = self.__rbm.train( data_set = self.__data, epochs = self.__max_epoch, every_step = self.__every_step, show = True)\n",
        "    \n",
        "    print(\"rbm trained \")\n",
        "    return by_epoch\n",
        "\n",
        "  def gibb( self, n = 100, t = 10 ):\n",
        "    return self._filter_sigmas( self.__rbm.get_sigma_tests( n ,t), all = True )\n",
        "  \n",
        "  def good_gibb( self, n = 100 , t = 10):\n",
        "   return self._filter_sigmas( self.__rbm.get_sigma_tests( n ,t), all = False )\n",
        "\n",
        "  def _filter_sigmas( self, sigmas_tests, all = True):\n",
        "    good_sigmas = []\n",
        "    for s in sigmas_tests:\n",
        "      if sum(s) == 1:\n",
        "        good_sigmas.append(s.index(1) + 1)\n",
        "      else:\n",
        "        if all:\n",
        "          good_sigmas.append(0)\n",
        "    return good_sigmas\n",
        "\n",
        "  def readRBM(self, step):\n",
        "    persist = Persist( v = self.__v, h = self.__h, alpha = self.__alpha, nset = self.__n_data_source, epochs_total = self.__n_epochs  )\n",
        "    rbm = persist.read_RBM(step)\n",
        "    return TestWn(n_visuallayer=self.__v, n_hiddenlayer= self.__h, alpha=self.__alpha, n_epochs=self.__n_epochs, n_data_source= self.__n_data_source, rbm = rbm)\n",
        "  \n",
        "  def saveRBM(self):\n",
        "    persist = Persist( v = self.__v, h = self.__h, alpha = self.__alpha, nset = self.__n_data_source, epochs_total = self.__n_epochs  )\n",
        "    vb_str = self.__rbm.get_vb().numpy().tolist()\n",
        "    hb_str = self.__rbm.get_hb().numpy().tolist()\n",
        "    w_str  = self.__rbm.get_W().numpy().tolist()\n",
        "    persist.write_RBM(step = self.__n_data_source * self.__n_epochs, vb = vb_str , hb = hb_str , w = w_str )\n",
        "     "
      ],
      "execution_count": null,
      "outputs": []
    },
    {
      "cell_type": "markdown",
      "metadata": {
        "id": "oa5KXGoyL9hk"
      },
      "source": [
        "#train W6 State Process - Overlap Calculation and/or Estimation"
      ]
    },
    {
      "cell_type": "code",
      "metadata": {
        "id": "u3wcNRjVZ8eM",
        "colab": {
          "base_uri": "https://localhost:8080/",
          "height": 130
        },
        "outputId": "55d57be9-94e8-4a56-f403-4b272cd284a4"
      },
      "source": [
        "n_visual = 6\n",
        "n_hidden = 6\n",
        "alpha_arr = [0.1,0.5,0.9] # select 3 different alphas\n",
        "n_epochs = 1\n",
        "n_data_set = 10000\n",
        "n_gibb = 1000\n",
        "n_trip = 10\n",
        "x = [] # x axis in plot (steps)\n",
        "y = [] # y axis in plot (overlap calculation)\n",
        "y2 = [] # y2 axis in plot (overlap estimation)\n",
        "cont = 0 # just a counter\n",
        "min = 1 # minimum value generated on calculated overlap (will be the boundary for plot)\n",
        "minc = 1 # same for estimated overlap\n",
        "do_calc_over = True # Calculate Overlap\n",
        "do_est_over = False  # Estimate Overlap\n",
        "\n",
        "# begin process\n",
        "for alpha in alpha_arr:\n",
        "\n",
        "  test = TestWn( n_visuallayer = n_visual, n_hiddenlayer = n_hidden, alpha = alpha, n_epochs = n_epochs , n_data_source = n_data_set, every_step = 1000 )\n",
        "  all_data = test.train()\n",
        "  ovl = Overlap_Wn( nv = n_visual, nh = n_hidden, generateAllSigmas= True ) \n",
        "  if do_calc_over:\n",
        "    y.append([])\n",
        "  if do_est_over:\n",
        "    y2.append([])\n",
        "  for data in all_data:\n",
        "    step = data[1]\n",
        "    if do_calc_over:\n",
        "      over = ovl.calc_overlap( b = data[2], c = data[3], w = data[4])\n",
        "      y[cont].append(over)\n",
        "    if do_est_over:\n",
        "      overc = ovl.est_overlap( b = data[2], c = data[3], w = data[4], n = n_gibb, t = n_trip) )\n",
        "      y2[cont].append(overc)\n",
        "    if cont == 0:\n",
        "      x.append(step)\n",
        "    if do_calc_over:\n",
        "      if min > over:\n",
        "        min = over\n",
        "    if do_est_over:\n",
        "      if minc > overc:\n",
        "        minc = overc\n",
        "  cont += 1\n",
        "\n",
        "if do_calc_over:\n",
        "  if min > 0.4:\n",
        "    min = 0.4\n",
        "if do_est_over:   \n",
        "  if minc > 0.4:\n",
        "    minc = 0.4\n",
        "\n",
        "\n"
      ],
      "execution_count": null,
      "outputs": [
        {
          "output_type": "error",
          "ename": "SyntaxError",
          "evalue": "ignored",
          "traceback": [
            "\u001b[0;36m  File \u001b[0;32m\"<ipython-input-44-c286008e65cb>\"\u001b[0;36m, line \u001b[0;32m33\u001b[0m\n\u001b[0;31m    overc = ovl.est_overlap( b = data[2], c = data[3], w = data[4], n = n_gibb, t = n_trip) )\u001b[0m\n\u001b[0m                                                                                            ^\u001b[0m\n\u001b[0;31mSyntaxError\u001b[0m\u001b[0;31m:\u001b[0m invalid syntax\n"
          ]
        }
      ]
    },
    {
      "cell_type": "code",
      "metadata": {
        "colab": {
          "base_uri": "https://localhost:8080/",
          "height": 281
        },
        "id": "ZbMoCXCNmFRq",
        "outputId": "8cc77bf0-be15-4a45-b520-275644f015df"
      },
      "source": [
        "# ploting data\n",
        "if do_calc_over:\n",
        "  plt.ylim(min,1)\n",
        "  greek_letterz=[chr(code) for code in range(945,970)]\n",
        "  plt.plot(x,y[0], marker='o', label = greek_letterz[0] + ' = 0.1', color=(0,0,0 ))\n",
        "  plt.plot(x,y[1], marker='o', label = greek_letterz[0] + ' = 0.5', color=(0,0,1 ), linestyle='--')\n",
        "  plt.plot(x,y[2], marker='o', label = greek_letterz[0] + ' = 0.9', color=(1,0,0 ))\n",
        "  plt.legend(loc='lower right')\n",
        "  plt.title('N = ' + str(n_data_set )  + ' hidden = ' + str(n_hidden) )#+ ' Max =' + str('{:.4f}'.format(max)) )\n",
        "\n",
        "  plt.show()  \n",
        "\n",
        "if do_est_over:   \n",
        "  plt.ylim(minc,1)\n",
        "  greek_letterz=[chr(code) for code in range(945,970)]\n",
        "  plt.plot(x,y2[0], marker='o', label = greek_letterz[0] + ' = 0.1', color=(0,0,0 ))\n",
        "  plt.plot(x,y2[1], marker='o', label = greek_letterz[0] + ' = 0.5', color=(0,0,1 ), linestyle='--')\n",
        "  plt.plot(x,y2[2], marker='o', label = greek_letterz[0] + ' = 0.9', color=(1,0,0 ))\n",
        "  plt.legend(loc='lower right')\n",
        "  plt.title('Estimated overlap. N = ' + str(n_data_set )  + ' hidden = ' + str(n_hidden) )#+ ' Max =' + str('{:.4f}'.format(max)) )\n",
        "\n",
        "  plt.show()"
      ],
      "execution_count": null,
      "outputs": [
        {
          "output_type": "display_data",
          "data": {
            "image/png": "[encoded data removed]",
            "text/plain": [
              "<Figure size 432x288 with 1 Axes>"
            ]
          },
          "metadata": {
            "tags": [],
            "needs_background": "light"
          }
        }
      ]
    },
    {
      "cell_type": "code",
      "metadata": {
        "id": "LTjAPzLEHeTZ"
      },
      "source": [
        "y[1]\n"
      ],
      "execution_count": null,
      "outputs": []
    },
    {
      "cell_type": "markdown",
      "metadata": {
        "id": "Nt-dQ7XbIWsj"
      },
      "source": [
        "#W20 estimation"
      ]
    },
    {
      "cell_type": "code",
      "metadata": {
        "colab": {
          "base_uri": "https://localhost:8080/"
        },
        "id": "d9nzSBqxIask",
        "outputId": "604ac326-2575-43ad-ebd7-2691cfedd9f6"
      },
      "source": [
        "  n_visual = 20\n",
        "  n_hidden = 20\n",
        "  alpha = 0.5\n",
        "  n_epochs = 5\n",
        "  n_data_set = 5000\n",
        "  n_gibb = 100\n",
        "  n_trip = 10\n",
        "  x = []\n",
        "  y = []\n",
        "  min = 1\n",
        "  \n",
        "  test = TestWn( n_visuallayer = n_visual, n_hiddenlayer = n_hidden, alpha = alpha, n_epochs = n_epochs , n_data_source = n_data_set )\n",
        "  all_data = test.train()\n",
        "  ovl = Overlap_Wn( nv = n_visual, nh = n_hidden) \n",
        "  for data in all_data:\n",
        "    step = data[1]\n",
        "    overc = ovl.est_overlap( b = data[2], c = data[3], w = data[4], n = n_gibb, t = n_trip)\n",
        "    y.append(overc)\n",
        "    x.append(step)\n",
        "    if min > overc:\n",
        "      min = overc\n",
        "    \n",
        "  if min > 0.4:\n",
        "    min = 0.4"
      ],
      "execution_count": null,
      "outputs": [
        {
          "output_type": "stream",
          "text": [
            "training rbm with epochs =  5\n",
            "   >> training >> epoch = 1\n",
            "   >> training >> epoch = 2\n",
            "   >> training >> epoch = 3\n",
            "   >> training >> epoch = 4\n",
            "   >> training >> epoch = 5\n",
            "rbm trained \n",
            " > Estimate Overlap > Prob. Distribution Sigmas OK ...\n",
            " > Estimate Overlap > Prob. Distribution Sigmas Intersection ...\n",
            " > Estimate Overlap > n 100 N 20 sigmas_intersection 54\n",
            " > Estimate Overlap > Prob. Distribution sum3 ...\n",
            " > Estimate Overlap > Done ________\n",
            " > Estimate Overlap > Prob. Distribution Sigmas OK ...\n",
            " > Estimate Overlap > Prob. Distribution Sigmas Intersection ...\n",
            " > Estimate Overlap > n 100 N 20 sigmas_intersection 57\n",
            " > Estimate Overlap > Prob. Distribution sum3 ...\n",
            " > Estimate Overlap > Done ________\n",
            " > Estimate Overlap > Prob. Distribution Sigmas OK ...\n",
            " > Estimate Overlap > Prob. Distribution Sigmas Intersection ...\n",
            " > Estimate Overlap > n 100 N 20 sigmas_intersection 70\n",
            " > Estimate Overlap > Prob. Distribution sum3 ...\n",
            " > Estimate Overlap > Done ________\n",
            " > Estimate Overlap > Prob. Distribution Sigmas OK ...\n",
            " > Estimate Overlap > Prob. Distribution Sigmas Intersection ...\n",
            " > Estimate Overlap > n 100 N 20 sigmas_intersection 77\n",
            " > Estimate Overlap > Prob. Distribution sum3 ...\n",
            " > Estimate Overlap > Done ________\n",
            " > Estimate Overlap > Prob. Distribution Sigmas OK ...\n",
            " > Estimate Overlap > Prob. Distribution Sigmas Intersection ...\n",
            " > Estimate Overlap > n 100 N 20 sigmas_intersection 90\n",
            " > Estimate Overlap > Prob. Distribution sum3 ...\n",
            " > Estimate Overlap > Done ________\n"
          ],
          "name": "stdout"
        }
      ]
    },
    {
      "cell_type": "code",
      "metadata": {
        "colab": {
          "base_uri": "https://localhost:8080/",
          "height": 315
        },
        "id": "N8ZkGYAbJzvc",
        "outputId": "478a73f3-c1fa-4e7d-bd54-9f7fcb97ae33"
      },
      "source": [
        "  print(y)\n",
        "  plt.ylim(min,1)\n",
        "  plt.plot(x,y, marker='o', color=(0,0,0 ))\n",
        " \n",
        "  plt.title('Estimation. N = ' + str(n_data_set )  + ' hidden = ' + str(n_hidden) + ' alpha = ' + str(alpha) + ' Epochs = ' + str(n_epochs))"
      ],
      "execution_count": null,
      "outputs": [
        {
          "output_type": "stream",
          "text": [
            "[0.5107697759211393, 0.5094200234368601, 0.603763411034475, 0.7075282409675606, 0.8311135145339528]\n"
          ],
          "name": "stdout"
        },
        {
          "output_type": "execute_result",
          "data": {
            "text/plain": [
              "Text(0.5, 1.0, 'Estimation. N = 5000 hidden = 20 alpha = 0.5 Epochs = 5')"
            ]
          },
          "metadata": {
            "tags": []
          },
          "execution_count": 51
        },
        {
          "output_type": "display_data",
          "data": {
            "image/png": "[encoded data removed]",
            "text/plain": [
              "<Figure size 432x288 with 1 Axes>"
            ]
          },
          "metadata": {
            "tags": [],
            "needs_background": "light"
          }
        }
      ]
    },
    {
      "cell_type": "markdown",
      "metadata": {
        "id": "1LxnqSkViLbz"
      },
      "source": [
        "#Plot Distribution"
      ]
    },
    {
      "cell_type": "code",
      "metadata": {
        "id": "NFJxMmemRi9H"
      },
      "source": [
        "class Plot:\n",
        "  def __init__(self, sigmas, title = 'plot'):\n",
        "    self.__sigmas = sigmas\n",
        "    self.__title = title\n",
        "  def show(self):\n",
        "    length = len(self.__sigmas)\n",
        "    unique, rev = np.unique(self.__sigmas, return_inverse=True)\n",
        "    np.bincount(rev)\n",
        "    X = np.column_stack((unique,np.bincount(rev)/length))\n",
        "    plt.title(self.__title)\n",
        "    plt.bar(x=X[:, 0], height=X[:, 1])\n",
        "    plt.xticks(unique)\n",
        "    plt.yticks(np.arange(0, 0.2, step=0.02))\n",
        "    plt.show()     \n",
        "  def title(self, title = 'plot'):\n",
        "    self.__title = title\n"
      ],
      "execution_count": null,
      "outputs": []
    },
    {
      "cell_type": "code",
      "metadata": {
        "id": "1hWvlG2ZknxG"
      },
      "source": [
        "n_visual = 20\n",
        "n_hidden = 20\n",
        "alpha = 0.5\n",
        "n_epochs = 1\n",
        "n_data_set = 1000\n",
        "n_gibb = 1000\n",
        "n_trip = 1\n"
      ],
      "execution_count": 86,
      "outputs": []
    },
    {
      "cell_type": "code",
      "metadata": {
        "colab": {
          "base_uri": "https://localhost:8080/",
          "height": 332
        },
        "id": "CfYh62u_kqbS",
        "outputId": "98a2dfd4-865f-49af-996b-0f63897dfe45"
      },
      "source": [
        "test = TestWn( n_visuallayer= n_visual, n_hiddenlayer= n_hidden, alpha = alpha, n_epochs = n_epochs , n_data_source = n_data_set)\n",
        "epochs = test.train()\n",
        "plot = Plot( test.good_gibb(n_gibb,n_trip) )\n",
        "plot.show()"
      ],
      "execution_count": 87,
      "outputs": [
        {
          "output_type": "stream",
          "text": [
            "training rbm with epochs =  1\n",
            "   >> training >> epoch = 1\n",
            "rbm trained \n"
          ],
          "name": "stdout"
        },
        {
          "output_type": "display_data",
          "data": {
            "image/png": "[encoded data removed]",
            "text/plain": [
              "<Figure size 432x288 with 1 Axes>"
            ]
          },
          "metadata": {
            "tags": [],
            "needs_background": "light"
          }
        }
      ]
    }
  ]
}